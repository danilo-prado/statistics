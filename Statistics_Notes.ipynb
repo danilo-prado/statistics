{
  "nbformat": 4,
  "nbformat_minor": 0,
  "metadata": {
    "colab": {
      "name": "Statistics_Notes.ipynb",
      "provenance": [],
      "authorship_tag": "ABX9TyPVF2qBv+AhxILFgqp2p5fK"
    },
    "kernelspec": {
      "name": "python3",
      "display_name": "Python 3"
    },
    "language_info": {
      "name": "python"
    }
  },
  "cells": [
    {
      "cell_type": "markdown",
      "source": [
        "# ESTATÍSTICA\n",
        "***"
      ],
      "metadata": {
        "id": "Fg2NmGfPHAsU"
      }
    },
    {
      "cell_type": "markdown",
      "source": [
        "## Tipos de dados"
      ],
      "metadata": {
        "id": "nw9YkCssIDuc"
      }
    },
    {
      "cell_type": "markdown",
      "source": [
        "## Distribuição de frequências"
      ],
      "metadata": {
        "id": "9G5LiSnMIGFF"
      }
    },
    {
      "cell_type": "markdown",
      "source": [
        "## Medidas de tendencia central"
      ],
      "metadata": {
        "id": "wy3Ozs2aINeg"
      }
    },
    {
      "cell_type": "markdown",
      "source": [
        "## Medidas separatrizes"
      ],
      "metadata": {
        "id": "UpuMFpfWISnY"
      }
    },
    {
      "cell_type": "markdown",
      "source": [
        "## Medidas de dispersão"
      ],
      "metadata": {
        "id": "HOd9v8inIWXY"
      }
    },
    {
      "cell_type": "markdown",
      "source": [
        "## Distribuição de Probabilidade: binomial, poisson, normal"
      ],
      "metadata": {
        "id": "NRAi37kVIsRv"
      }
    },
    {
      "cell_type": "markdown",
      "source": [
        "## Amostragem"
      ],
      "metadata": {
        "id": "WH5aXUIZIwP0"
      }
    },
    {
      "cell_type": "markdown",
      "source": [
        "## Estimação"
      ],
      "metadata": {
        "id": "6qiuBRFiIwiN"
      }
    },
    {
      "cell_type": "markdown",
      "source": [
        "## Cálculo tamanho da amostra"
      ],
      "metadata": {
        "id": "x4qWHi1dJF6j"
      }
    },
    {
      "cell_type": "code",
      "source": [
        ""
      ],
      "metadata": {
        "id": "T7NP6a5HIFXK"
      },
      "execution_count": null,
      "outputs": []
    }
  ]
}